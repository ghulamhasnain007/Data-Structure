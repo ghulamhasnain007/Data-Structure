{
  "cells": [
    {
      "cell_type": "code",
      "execution_count": null,
      "metadata": {
        "id": "fdBLR5FVCcgF",
        "outputId": "9816dfc1-29b0-41a4-c6d7-40a0841cb225"
      },
      "outputs": [
        {
          "name": "stdout",
          "output_type": "stream",
          "text": [
            "<class 'str'>\n",
            "<class 'int'>\n"
          ]
        }
      ],
      "source": [
        "#Task 01\n",
        "a = input(\"Enter Number:\")\n",
        "print(type(a))\n",
        "b = int(input(\"Enter Integer Number: \"))\n",
        "print(type(b))"
      ]
    },
    {
      "cell_type": "code",
      "execution_count": null,
      "metadata": {
        "id": "VpTkhBtYCcgK",
        "outputId": "c3029080-25f3-4e82-c29a-fcfabf6fc7b1"
      },
      "outputs": [
        {
          "name": "stdout",
          "output_type": "stream",
          "text": [
            "Firstly the type of variable: <class 'str'>\n",
            "By Converting it into integer: <class 'int'>\n",
            "Again convert it into string: <class 'str'>\n"
          ]
        }
      ],
      "source": [
        "# Task 02\n",
        "s = '123'\n",
        "print(\"Firstly the type of variable: \" + str(type(s)))\n",
        "\n",
        "cs = int(s)\n",
        "print(\"By Converting it into integer: \" + str(type(cs)))\n",
        "\n",
        "ci = str(cs)\n",
        "print(\"Again convert it into string: \" + str(type(ci)))\n"
      ]
    },
    {
      "cell_type": "code",
      "execution_count": null,
      "metadata": {
        "id": "kx-s5r5xCcgL",
        "outputId": "40401c7b-0cc6-4a96-d810-8e93544c71ed"
      },
      "outputs": [
        {
          "name": "stdout",
          "output_type": "stream",
          "text": [
            "* * \n",
            "* * * * \n",
            "* * * * * * * * \n",
            "* * * * * * * * * * * * * * * * \n"
          ]
        }
      ],
      "source": [
        "#Task 03\n",
        "for i in range(2, 6):\n",
        "    for j in range(1, 2**i, 2):\n",
        "        print(\"*\", end=\" \")\n",
        "    print()\n",
        "\n"
      ]
    }
  ],
  "metadata": {
    "kernelspec": {
      "display_name": "Python 3",
      "language": "python",
      "name": "python3"
    },
    "language_info": {
      "codemirror_mode": {
        "name": "ipython",
        "version": 3
      },
      "file_extension": ".py",
      "mimetype": "text/x-python",
      "name": "python",
      "nbconvert_exporter": "python",
      "pygments_lexer": "ipython3",
      "version": "3.11.8"
    },
    "colab": {
      "provenance": []
    }
  },
  "nbformat": 4,
  "nbformat_minor": 0
}