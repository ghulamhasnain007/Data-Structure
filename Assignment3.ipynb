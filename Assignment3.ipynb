{
  "nbformat": 4,
  "nbformat_minor": 0,
  "metadata": {
    "colab": {
      "provenance": []
    },
    "kernelspec": {
      "name": "python3",
      "display_name": "Python 3"
    },
    "language_info": {
      "name": "python"
    }
  },
  "cells": [
    {
      "cell_type": "markdown",
      "source": [
        "# **Merge Sort Algorithm**"
      ],
      "metadata": {
        "id": "vK47KtIRLOmY"
      }
    },
    {
      "cell_type": "code",
      "execution_count": null,
      "metadata": {
        "colab": {
          "base_uri": "https://localhost:8080/"
        },
        "id": "kNKAaaYu6eny",
        "outputId": "470efafe-f492-40bc-fd44-0df3fbf84919"
      },
      "outputs": [
        {
          "output_type": "stream",
          "name": "stdout",
          "text": [
            "[5, 7, 9, 11, 19, 23, 41]\n"
          ]
        }
      ],
      "source": [
        "list1 = [11,9,7,23,19,41,5]\n",
        "def merge_sort(list1):\n",
        "  if(len(list1) > 1):\n",
        "    mid = len(list1)//2\n",
        "    left_side = list1[:mid]\n",
        "    right_side = list1[mid:]\n",
        "    merge_sort(left_side)\n",
        "    merge_sort(right_side)\n",
        "    i=j=k=0\n",
        "    while i<len(left_side) and j<len(right_side):\n",
        "      if(left_side[i]<right_side[j]):\n",
        "        list1[k] = left_side[i]\n",
        "        i=i+1\n",
        "      else:\n",
        "        list1[k] = right_side[j]\n",
        "        j=j+1\n",
        "      k=k+1\n",
        "    while i<len(left_side):\n",
        "      list1[k] = left_side[i]\n",
        "      i=i+1\n",
        "      k=k+1\n",
        "    while j<len(right_side):\n",
        "      list1[k] = right_side[j]\n",
        "      j=j+1\n",
        "      k=k+1\n",
        "merge_sort(list1)\n",
        "print(list1)\n"
      ]
    }
  ]
}