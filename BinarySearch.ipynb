{
  "nbformat": 4,
  "nbformat_minor": 0,
  "metadata": {
    "colab": {
      "provenance": []
    },
    "kernelspec": {
      "name": "python3",
      "display_name": "Python 3"
    },
    "language_info": {
      "name": "python"
    }
  },
  "cells": [
    {
      "cell_type": "markdown",
      "source": [
        "# **Binary Search**"
      ],
      "metadata": {
        "id": "W_FWDOFFI9zR"
      }
    },
    {
      "cell_type": "code",
      "source": [
        "new_list = [5, 8, 10, 13, 18, 26]\n",
        "length = len(new_list)\n",
        "mid = length // 2\n",
        "check = 0\n",
        "\n",
        "n = int(input(\"Enter the number: \"))\n",
        "\n",
        "if length % 2 == 0:\n",
        "    if n == new_list[mid] or n == new_list[mid - 1]:\n",
        "        check = 3\n",
        "    elif n < new_list[mid]:\n",
        "        check = 1\n",
        "    elif n > new_list[mid]:\n",
        "        check = 2\n",
        "else:\n",
        "    if n == new_list[mid]:\n",
        "        check = 3\n",
        "    elif n < new_list[mid]:\n",
        "        check = 1\n",
        "    elif n > new_list[mid]:\n",
        "        check = 2\n",
        "\n",
        "if check == 1:\n",
        "    print(\"The Number is in the left side\")\n",
        "elif check == 2:\n",
        "    print(\"The Number is in the right side\")\n",
        "elif check == 3:\n",
        "    print(\"The Number is in the middle\")\n",
        "else:\n",
        "    print(\"The Number is not found\")\n"
      ],
      "metadata": {
        "colab": {
          "base_uri": "https://localhost:8080/"
        },
        "id": "1HErm19cJGpx",
        "outputId": "b0cdae47-b10f-4635-89b8-1ff10e4221e7"
      },
      "execution_count": 53,
      "outputs": [
        {
          "output_type": "stream",
          "name": "stdout",
          "text": [
            "Enter the number: 5\n",
            "The Number is in the left side\n"
          ]
        }
      ]
    }
  ]
}