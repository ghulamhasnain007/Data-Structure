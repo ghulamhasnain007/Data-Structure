{
  "nbformat": 4,
  "nbformat_minor": 0,
  "metadata": {
    "colab": {
      "provenance": []
    },
    "kernelspec": {
      "name": "python3",
      "display_name": "Python 3"
    },
    "language_info": {
      "name": "python"
    }
  },
  "cells": [
    {
      "cell_type": "markdown",
      "source": [
        "# **Selection Sort**"
      ],
      "metadata": {
        "id": "cjolBk2GdjzI"
      }
    },
    {
      "cell_type": "code",
      "execution_count": null,
      "metadata": {
        "colab": {
          "base_uri": "https://localhost:8080/"
        },
        "id": "CA5yhPVIAJ0y",
        "outputId": "8ca81b1b-e8e6-4339-e3b5-3cb8f08834d3"
      },
      "outputs": [
        {
          "output_type": "stream",
          "name": "stdout",
          "text": [
            "0\n",
            "1\n",
            "2\n",
            "3\n",
            "4\n"
          ]
        }
      ],
      "source": [
        "arr = [22, 78, 45, 11, 33, 51]\n",
        "n = len(arr)\n",
        "\n",
        "for i in range(n - 1):#4\n",
        "  min = i#0\n",
        "  for j in range(i+1,n):#1,4\n",
        "    if(arr[j] < arr[min]):#78<22\n",
        "      min = j#1\n",
        "\n",
        "  arr[i], arr[min] = arr[min], arr[i]#22 = 78, 78 = 22\n",
        "\n",
        "print(arr)"
      ]
    },
    {
      "cell_type": "markdown",
      "source": [
        "# **Bubble Sort**"
      ],
      "metadata": {
        "id": "aAawxCM0duzL"
      }
    },
    {
      "cell_type": "code",
      "source": [
        "list1 = [23, 78, 11, 61, 59,9]\n",
        "n = len(list1)\n",
        "\n",
        "for i in range(n-1):\n",
        "  for j in range(n-i-1):\n",
        "    if(list1[j]>list1[j+1]):\n",
        "      list1[j], list1[j+1] = list1[j+1], list1[j]\n",
        "\n",
        "print(list1)"
      ],
      "metadata": {
        "colab": {
          "base_uri": "https://localhost:8080/"
        },
        "id": "gTOy1coMd0lx",
        "outputId": "fd60b0d4-94ef-460a-83c5-ccb6b79b52e5"
      },
      "execution_count": 10,
      "outputs": [
        {
          "output_type": "stream",
          "name": "stdout",
          "text": [
            "[9, 11, 23, 59, 61, 78]\n"
          ]
        }
      ]
    }
  ]
}