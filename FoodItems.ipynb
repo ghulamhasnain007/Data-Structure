{
  "nbformat": 4,
  "nbformat_minor": 0,
  "metadata": {
    "colab": {
      "provenance": []
    },
    "kernelspec": {
      "name": "python3",
      "display_name": "Python 3"
    },
    "language_info": {
      "name": "python"
    }
  },
  "cells": [
    {
      "cell_type": "markdown",
      "source": [
        "# Dictionary of 10 Food Items with their Price"
      ],
      "metadata": {
        "id": "yg8UBfIXE-HW"
      }
    },
    {
      "cell_type": "code",
      "execution_count": null,
      "metadata": {
        "id": "IkzNzR203zU8"
      },
      "outputs": [],
      "source": [
        "food = {\n",
        "    \"Biryani\": 200,\n",
        "    \"Burger\": 500,\n",
        "    \"Kararhi\": 800,\n",
        "    \"Pizza\": 1000,\n",
        "    \"Nihari\": 700,\n",
        "    \"Pasta\": 400,\n",
        "    \"Ice Cream\": 300,\n",
        "    \"Donut\": 600,\n",
        "    \"Broast\": 1500,\n",
        "    \"Chips\": 250\n",
        "}"
      ]
    },
    {
      "cell_type": "markdown",
      "source": [
        "### **Task 01:** Add the Key Irfan with value of 200"
      ],
      "metadata": {
        "id": "OyqmihreE98k"
      }
    },
    {
      "cell_type": "code",
      "source": [
        "food[\"irfan\"] = 200\n",
        "for x, y in food.items():\n",
        "  print(x, y)"
      ],
      "metadata": {
        "colab": {
          "base_uri": "https://localhost:8080/"
        },
        "id": "p4bh99-GFQ0Q",
        "outputId": "fcd4c440-a24f-4af6-fcb1-8d9085e3cef5"
      },
      "execution_count": null,
      "outputs": [
        {
          "output_type": "stream",
          "name": "stdout",
          "text": [
            "Biryani 200\n",
            "Burger 500\n",
            "Kararhi 800\n",
            "Pizza 1000\n",
            "Nihari 700\n",
            "Pasta 400\n",
            "Ice Cream 300\n",
            "Donut 600\n",
            "Broast 1500\n",
            "Chips 250\n",
            "irfan 200\n"
          ]
        }
      ]
    },
    {
      "cell_type": "markdown",
      "source": [
        "### **Task 02**:Replace 5th Position with Irfan: 200"
      ],
      "metadata": {
        "id": "YS8meRVXSYym"
      }
    },
    {
      "cell_type": "code",
      "source": [
        "items = list(food.items())\n",
        "items[4] = (\"Irfan\", 200)\n",
        "\n",
        "food = dict(items)\n",
        "for x, y in food.items():\n",
        "  print(x, y)"
      ],
      "metadata": {
        "colab": {
          "base_uri": "https://localhost:8080/"
        },
        "id": "rN-YmdLwSqwt",
        "outputId": "43fdd6f3-8f76-4b41-fbef-88d974a254e9"
      },
      "execution_count": null,
      "outputs": [
        {
          "output_type": "stream",
          "name": "stdout",
          "text": [
            "Biryani 200\n",
            "Burger 500\n",
            "Kararhi 800\n",
            "Pizza 1000\n",
            "Irfan 200\n",
            "Pasta 400\n",
            "Ice Cream 300\n",
            "Donut 600\n",
            "Broast 1500\n",
            "Chips 250\n",
            "irfan 200\n"
          ]
        }
      ]
    },
    {
      "cell_type": "markdown",
      "source": [
        "### **Task 03:** Grab/Extract Only Food Items"
      ],
      "metadata": {
        "id": "zufSAJMUUszl"
      }
    },
    {
      "cell_type": "code",
      "source": [
        "for x in food.keys():\n",
        "    print(x)"
      ],
      "metadata": {
        "colab": {
          "base_uri": "https://localhost:8080/"
        },
        "id": "5jpEm2KBU-Fw",
        "outputId": "4e49e32c-1226-469c-992d-fe578af9bfb7"
      },
      "execution_count": null,
      "outputs": [
        {
          "output_type": "stream",
          "name": "stdout",
          "text": [
            "Biryani\n",
            "Burger\n",
            "Kararhi\n",
            "Pizza\n",
            "Irfan\n",
            "Pasta\n",
            "Ice Cream\n",
            "Donut\n",
            "Broast\n",
            "Chips\n",
            "irfan\n"
          ]
        }
      ]
    },
    {
      "cell_type": "markdown",
      "source": [
        "### **Task 04:** Grab/Extract Only Food Prices"
      ],
      "metadata": {
        "id": "4LPaBY9nVy7T"
      }
    },
    {
      "cell_type": "code",
      "source": [
        "for x in food.values():\n",
        "    print(x)"
      ],
      "metadata": {
        "colab": {
          "base_uri": "https://localhost:8080/"
        },
        "id": "g7os4IvBV3bm",
        "outputId": "39e1f237-e53c-44dc-d375-367f336c9aef"
      },
      "execution_count": null,
      "outputs": [
        {
          "output_type": "stream",
          "name": "stdout",
          "text": [
            "200\n",
            "500\n",
            "800\n",
            "1000\n",
            "200\n",
            "400\n",
            "300\n",
            "600\n",
            "1500\n",
            "250\n",
            "200\n"
          ]
        }
      ]
    },
    {
      "cell_type": "markdown",
      "source": [
        "### **Task 05:** Grab/Extract Both Food Prices and Items"
      ],
      "metadata": {
        "id": "uqURP5bnWMqo"
      }
    },
    {
      "cell_type": "code",
      "source": [
        "food = dict(items)\n",
        "for x, y in food.items():\n",
        "  print(x, y)"
      ],
      "metadata": {
        "colab": {
          "base_uri": "https://localhost:8080/"
        },
        "id": "W1RNMN_jWS40",
        "outputId": "b37e20e9-c4a4-4866-d6dc-7cce9b7800cc"
      },
      "execution_count": null,
      "outputs": [
        {
          "output_type": "stream",
          "name": "stdout",
          "text": [
            "Biryani 200\n",
            "Burger 500\n",
            "Kararhi 800\n",
            "Pizza 1000\n",
            "Irfan 200\n",
            "Pasta 400\n",
            "Ice Cream 300\n",
            "Donut 600\n",
            "Broast 1500\n",
            "Chips 250\n",
            "irfan 200\n"
          ]
        }
      ]
    }
  ]
}