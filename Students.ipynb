{
  "nbformat": 4,
  "nbformat_minor": 0,
  "metadata": {
    "colab": {
      "provenance": []
    },
    "kernelspec": {
      "name": "python3",
      "display_name": "Python 3"
    },
    "language_info": {
      "name": "python"
    }
  },
  "cells": [
    {
      "cell_type": "markdown",
      "source": [
        "# **# Dictionary of 20 students with their Id's**"
      ],
      "metadata": {
        "id": "sHd-VB2fzB02"
      }
    },
    {
      "cell_type": "code",
      "source": [
        "students = {\"Sudheer\": 100, \"Hasnain\": 101, \"Jalal\": 102, \"Basit\": 103, \"Hafeez\": 104, \"Ali\": 105, \"Faisal\": 106, \"Abbas\": 107,\n",
        "            \"Umar\": 108, \"Adnan\": 109, \"Haris\": 110,\"Sadar\": 111, \"Saad\": 112, \"Noman\": 113, \"Qadeer\": 114, \"Aqib\": 115,\n",
        "            \"Jameel\": 116, \"Amir\": 117, \"Saud\": 118, \"Saleem\": 119, \"Saim\":120}"
      ],
      "metadata": {
        "id": "HMR5Vf0wzVbU"
      },
      "execution_count": null,
      "outputs": []
    },
    {
      "cell_type": "markdown",
      "source": [
        "**Task 01: **Add key Irfan with value 200 at the end"
      ],
      "metadata": {
        "id": "5fWDA3ymzsa5"
      }
    },
    {
      "cell_type": "code",
      "source": [
        "students[\"irfan\"] = 200\n",
        "for x, y in students.items():\n",
        "  print(x, y)"
      ],
      "metadata": {
        "colab": {
          "base_uri": "https://localhost:8080/"
        },
        "id": "6EyMWMcB0AbD",
        "outputId": "dc541e05-f4da-4e95-f812-d692bbd813d2"
      },
      "execution_count": null,
      "outputs": [
        {
          "output_type": "stream",
          "name": "stdout",
          "text": [
            "Sudheer 100\n",
            "Hasnain 101\n",
            "Jalal 102\n",
            "Basit 103\n",
            "Hafeez 104\n",
            "Ali 105\n",
            "Faisal 106\n",
            "Abbas 107\n",
            "Umar 108\n",
            "Adnan 109\n",
            "Haris 110\n",
            "Sadar 111\n",
            "Saad 112\n",
            "Noman 113\n",
            "Qadeer 114\n",
            "Aqib 115\n",
            "Jameel 116\n",
            "Amir 117\n",
            "Saud 118\n",
            "Saleem 119\n",
            "Saim 120\n",
            "irfan 200\n"
          ]
        }
      ]
    },
    {
      "cell_type": "markdown",
      "source": [
        "### **Task 02: **Replace 10th Element of the Dictionary with Irfan: 200"
      ],
      "metadata": {
        "id": "LACokyB60jZo"
      }
    },
    {
      "cell_type": "code",
      "source": [
        "items = list(students.items())\n",
        "items[9] = (\"Irfan\", 200)\n",
        "\n",
        "for x, y in students.items():\n",
        "  print(x, y)"
      ],
      "metadata": {
        "colab": {
          "base_uri": "https://localhost:8080/"
        },
        "id": "jaujU9SB05fq",
        "outputId": "7e7cb7e0-f7a9-418a-cca5-e3880b07c4e9"
      },
      "execution_count": null,
      "outputs": [
        {
          "output_type": "stream",
          "name": "stdout",
          "text": [
            "Sudheer 100\n",
            "Hasnain 101\n",
            "Jalal 102\n",
            "Basit 103\n",
            "Hafeez 104\n",
            "Ali 105\n",
            "Faisal 106\n",
            "Abbas 107\n",
            "Umar 108\n",
            "Irfan 200\n",
            "Haris 110\n",
            "Sadar 111\n",
            "Saad 112\n",
            "Noman 113\n",
            "Qadeer 114\n",
            "Aqib 115\n",
            "Jameel 116\n",
            "Amir 117\n",
            "Saud 118\n",
            "Saleem 119\n",
            "Saim 120\n",
            "irfan 200\n"
          ]
        }
      ]
    },
    {
      "cell_type": "markdown",
      "source": [
        "### **Task 03:** Grab/Extract only Name of the Students in Dictionary"
      ],
      "metadata": {
        "id": "vL4rwU8C1RW6"
      }
    },
    {
      "cell_type": "code",
      "source": [
        "for x in students.keys():\n",
        "    print(x)"
      ],
      "metadata": {
        "colab": {
          "base_uri": "https://localhost:8080/"
        },
        "id": "HaDohiaI1p_r",
        "outputId": "5cc2f154-ceb1-4dfa-f236-2caa830238b9"
      },
      "execution_count": null,
      "outputs": [
        {
          "output_type": "stream",
          "name": "stdout",
          "text": [
            "Sudheer\n",
            "Hasnain\n",
            "Jalal\n",
            "Basit\n",
            "Hafeez\n",
            "Ali\n",
            "Faisal\n",
            "Abbas\n",
            "Umar\n",
            "Irfan\n",
            "Haris\n",
            "Sadar\n",
            "Saad\n",
            "Noman\n",
            "Qadeer\n",
            "Aqib\n",
            "Jameel\n",
            "Amir\n",
            "Saud\n",
            "Saleem\n",
            "Saim\n",
            "irfan\n"
          ]
        }
      ]
    },
    {
      "cell_type": "markdown",
      "source": [
        "### **Task 04:** Grab/Extract only ID's of the Students in *Dictionary*"
      ],
      "metadata": {
        "id": "VKKzcPJO2lgk"
      }
    },
    {
      "cell_type": "code",
      "source": [
        "for x in students.values():\n",
        "    print(x)"
      ],
      "metadata": {
        "colab": {
          "base_uri": "https://localhost:8080/"
        },
        "id": "RRmN5Y7119YB",
        "outputId": "1caf252e-430f-4ad8-b88c-aeb1cc04a2d7"
      },
      "execution_count": null,
      "outputs": [
        {
          "output_type": "stream",
          "name": "stdout",
          "text": [
            "100\n",
            "101\n",
            "102\n",
            "103\n",
            "104\n",
            "105\n",
            "106\n",
            "107\n",
            "108\n",
            "200\n",
            "110\n",
            "111\n",
            "112\n",
            "113\n",
            "114\n",
            "115\n",
            "116\n",
            "117\n",
            "118\n",
            "119\n",
            "120\n",
            "200\n"
          ]
        }
      ]
    },
    {
      "cell_type": "markdown",
      "source": [
        "### **Task 05:** Grab/Extract Both ID's and Names of the Students in *Dictionary*"
      ],
      "metadata": {
        "id": "wk1m_1Kj13xi"
      }
    },
    {
      "cell_type": "code",
      "source": [
        "for x, y in students.items():\n",
        "  print(x, y)"
      ],
      "metadata": {
        "colab": {
          "base_uri": "https://localhost:8080/"
        },
        "id": "ZLc_XFVx279p",
        "outputId": "8c49776a-8ff9-425a-a1bb-aa361b157338"
      },
      "execution_count": null,
      "outputs": [
        {
          "output_type": "stream",
          "name": "stdout",
          "text": [
            "Sudheer 100\n",
            "Hasnain 101\n",
            "Jalal 102\n",
            "Basit 103\n",
            "Hafeez 104\n",
            "Ali 105\n",
            "Faisal 106\n",
            "Abbas 107\n",
            "Umar 108\n",
            "Irfan 200\n",
            "Haris 110\n",
            "Sadar 111\n",
            "Saad 112\n",
            "Noman 113\n",
            "Qadeer 114\n",
            "Aqib 115\n",
            "Jameel 116\n",
            "Amir 117\n",
            "Saud 118\n",
            "Saleem 119\n",
            "Saim 120\n",
            "irfan 200\n"
          ]
        }
      ]
    }
  ]
}