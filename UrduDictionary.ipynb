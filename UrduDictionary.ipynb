{
  "nbformat": 4,
  "nbformat_minor": 0,
  "metadata": {
    "colab": {
      "provenance": []
    },
    "kernelspec": {
      "name": "python3",
      "display_name": "Python 3"
    },
    "language_info": {
      "name": "python"
    }
  },
  "cells": [
    {
      "cell_type": "markdown",
      "source": [
        "# Dictionary of 30 Urdu words with their Meaning"
      ],
      "metadata": {
        "id": "zapIaVg0XEts"
      }
    },
    {
      "cell_type": "code",
      "source": [
        "my_dictionary = {\n",
        "    \"Crawl\": \"رینگنا\",\n",
        "    \"Abuse\" : \"گا لی دینا\",\n",
        "    \"Devilish\" : \"شیطانی\",\n",
        "    \"Curiosity\" : \"تجسس\",\n",
        "    \"Amuse\" : \"لطف اندوز\",\n",
        "    \"Flecks\" : \"دھبے\",\n",
        "    \"Maize\" : \"مکئ\",\n",
        "    \"Crushing\" : \"کچلنے والا\",\n",
        "    \"Mistrust\" : \"بد اعتمادی\",\n",
        "    \"Peasant\" : \"کسان\",\n",
        "    \"Delicate\" : \"کسان\",\n",
        "    \"Barren\" : \"ویران\",\n",
        "    \"Dash\" : \"داخل ہو نا\",\n",
        "    \"Mule\" : \"خچر\",\n",
        "    \"Roomer\" : \"کمروں والے\",\n",
        "    \"Bandanna\" : \"گلوبند\",\n",
        "    \"Ruins\" : \"کھنڈرات\",\n",
        "    \"Beans\" : \"لوبیا\",\n",
        "    \"Flute\" : \"بانسری\",\n",
        "    \"Meadow\" : \"سبزہ زار\",\n",
        "    \"Prowl\" : \"\tآوارہ گردی کرنا\",\n",
        "    \"Astounded\" : \"ہکا بکا\",\n",
        "    \"Flimsy\" : \"نازک\",\n",
        "    \"Quietly\" : \"خاموشی سے\",\n",
        "    \"Bend\" : \"جھکنا\",\n",
        "    \"Dismay\" : \"افسردگی\",\n",
        "    \"Indignation\" : \"غصہ\",\n",
        "    \"Bet\" : \"شرط لگانا\",\n",
        "    \"Hammer\" : \"ہتھوڑا\",\n",
        "    \"Bluff\" : \"کھڑی چٹان\",\n",
        "    \"Hay\" : \"\tگھاس\"\n",
        "}"
      ],
      "metadata": {
        "id": "x09A6EynXdGE"
      },
      "execution_count": null,
      "outputs": []
    },
    {
      "cell_type": "markdown",
      "source": [
        "### **Task 01:** Add Irfan at the end"
      ],
      "metadata": {
        "id": "RHlF12Zjb-h_"
      }
    },
    {
      "cell_type": "code",
      "source": [
        "my_dictionary[\"irfan\"] = \"کسی کا نام\"\n",
        "for x, y in my_dictionary.items():\n",
        "  print(x,\"\\t\", y)"
      ],
      "metadata": {
        "colab": {
          "base_uri": "https://localhost:8080/"
        },
        "id": "rG0J_u3qcKpx",
        "outputId": "5ddf6ba0-f9dc-4dee-f8b4-bd6189b55b57"
      },
      "execution_count": null,
      "outputs": [
        {
          "output_type": "stream",
          "name": "stdout",
          "text": [
            "Crawl \t رینگنا\n",
            "Abuse \t گا لی دینا\n",
            "Devilish \t شیطانی\n",
            "Curiosity \t تجسس\n",
            "Amuse \t لطف اندوز\n",
            "Flecks \t دھبے\n",
            "Maize \t مکئ\n",
            "Crushing \t کچلنے والا\n",
            "Mistrust \t بد اعتمادی\n",
            "Peasant \t کسان\n",
            "Delicate \t کسان\n",
            "Barren \t ویران\n",
            "Dash \t داخل ہو نا\n",
            "Mule \t خچر\n",
            "Roomer \t کمروں والے\n",
            "Bandanna \t گلوبند\n",
            "Ruins \t کھنڈرات\n",
            "Beans \t لوبیا\n",
            "Flute \t بانسری\n",
            "Meadow \t سبزہ زار\n",
            "Prowl \t \tآوارہ گردی کرنا\n",
            "Astounded \t ہکا بکا\n",
            "Flimsy \t نازک\n",
            "Quietly \t خاموشی سے\n",
            "Bend \t جھکنا\n",
            "Dismay \t افسردگی\n",
            "Indignation \t غصہ\n",
            "Bet \t شرط لگانا\n",
            "Hammer \t ہتھوڑا\n",
            "Bluff \t کھڑی چٹان\n",
            "Hay \t \tگھاس\n",
            "irfan \t کسی کا نام\n"
          ]
        }
      ]
    },
    {
      "cell_type": "markdown",
      "source": [
        "### **Task 02**:Replace 5th Position with Irfan"
      ],
      "metadata": {
        "id": "YS8meRVXSYym"
      }
    },
    {
      "cell_type": "code",
      "source": [
        "items = list(my_dictionary.items())\n",
        "items[4] = (\"Irfan\", \" کسی کا نام\")\n",
        "\n",
        "my_dictionary = dict(items)\n",
        "for x, y in my_dictionary.items():\n",
        "  print(x,\"\\t\", y)"
      ],
      "metadata": {
        "colab": {
          "base_uri": "https://localhost:8080/"
        },
        "id": "OSUyI0asdcBl",
        "outputId": "6dbd0fb3-ceb2-4da8-b0e7-bc56fdb011ee"
      },
      "execution_count": null,
      "outputs": [
        {
          "output_type": "stream",
          "name": "stdout",
          "text": [
            "Crawl \t رینگنا\n",
            "Abuse \t گا لی دینا\n",
            "Devilish \t شیطانی\n",
            "Curiosity \t تجسس\n",
            "Irfan \t  کسی کا نام\n",
            "Flecks \t دھبے\n",
            "Maize \t مکئ\n",
            "Crushing \t کچلنے والا\n",
            "Mistrust \t بد اعتمادی\n",
            "Peasant \t کسان\n",
            "Delicate \t کسان\n",
            "Barren \t ویران\n",
            "Dash \t داخل ہو نا\n",
            "Mule \t خچر\n",
            "Beans \t لوبیا\n",
            "Flute \t بانسری\n",
            "Meadow \t سبزہ زار\n",
            "Prowl \t \tآوارہ گردی کرنا\n",
            "Astounded \t ہکا بکا\n",
            "Flimsy \t نازک\n",
            "Quietly \t خاموشی سے\n",
            "Bend \t جھکنا\n",
            "Dismay \t افسردگی\n",
            "Indignation \t غصہ\n",
            "Bet \t شرط لگانا\n",
            "Hammer \t ہتھوڑا\n",
            "Bluff \t کھڑی چٹان\n",
            "Hay \t \tگھاس\n",
            "irfan \t کسی کا نام\n"
          ]
        }
      ]
    },
    {
      "cell_type": "markdown",
      "source": [
        "### **Task 03:** Grab Only Words of the Dictionary"
      ],
      "metadata": {
        "id": "3aiO3UgTf0JB"
      }
    },
    {
      "cell_type": "code",
      "source": [
        "for x in my_dictionary.keys():\n",
        "    print(x)"
      ],
      "metadata": {
        "colab": {
          "base_uri": "https://localhost:8080/"
        },
        "id": "5GQVbTrCgBpe",
        "outputId": "b525f26c-e917-4e83-a775-8e1beb51471e"
      },
      "execution_count": null,
      "outputs": [
        {
          "output_type": "stream",
          "name": "stdout",
          "text": [
            "Crawl\n",
            "Abuse\n",
            "Devilish\n",
            "Curiosity\n",
            "Irfan\n",
            "Flecks\n",
            "Maize\n",
            "Crushing\n",
            "Mistrust\n",
            "Peasant\n",
            "Delicate\n",
            "Barren\n",
            "Dash\n",
            "Mule\n",
            "Beans\n",
            "Flute\n",
            "Meadow\n",
            "Prowl\n",
            "Astounded\n",
            "Flimsy\n",
            "Quietly\n",
            "Bend\n",
            "Dismay\n",
            "Indignation\n",
            "Bet\n",
            "Hammer\n",
            "Bluff\n",
            "Hay\n",
            "irfan\n"
          ]
        }
      ]
    },
    {
      "cell_type": "markdown",
      "source": [
        "### **Task 04:** Grab Only Meanings of the Dictionary"
      ],
      "metadata": {
        "id": "x0eJsssCgUX0"
      }
    },
    {
      "cell_type": "code",
      "source": [
        "for x in my_dictionary.values():\n",
        "    print(x)"
      ],
      "metadata": {
        "colab": {
          "base_uri": "https://localhost:8080/"
        },
        "id": "b5EYQD_DgYqw",
        "outputId": "4d8cb9c6-a16a-43ca-e1c1-725e6c2ce514"
      },
      "execution_count": null,
      "outputs": [
        {
          "output_type": "stream",
          "name": "stdout",
          "text": [
            "رینگنا\n",
            "گا لی دینا\n",
            "شیطانی\n",
            "تجسس\n",
            " کسی کا نام\n",
            "دھبے\n",
            "مکئ\n",
            "کچلنے والا\n",
            "بد اعتمادی\n",
            "کسان\n",
            "کسان\n",
            "ویران\n",
            "داخل ہو نا\n",
            "خچر\n",
            "لوبیا\n",
            "بانسری\n",
            "سبزہ زار\n",
            "\tآوارہ گردی کرنا\n",
            "ہکا بکا\n",
            "نازک\n",
            "خاموشی سے\n",
            "جھکنا\n",
            "افسردگی\n",
            "غصہ\n",
            "شرط لگانا\n",
            "ہتھوڑا\n",
            "کھڑی چٹان\n",
            "\tگھاس\n",
            "کسی کا نام\n"
          ]
        }
      ]
    },
    {
      "cell_type": "markdown",
      "source": [
        "### **Task 05:** Grab Both Words and Meanings of the Dictionary"
      ],
      "metadata": {
        "id": "LVRvKSOQgmTm"
      }
    },
    {
      "cell_type": "code",
      "source": [
        "my_dictionary = dict(items)\n",
        "for x, y in my_dictionary.items():\n",
        "  print(x,\"\\t\", y)"
      ],
      "metadata": {
        "colab": {
          "base_uri": "https://localhost:8080/"
        },
        "id": "2S_ufsWLgxhI",
        "outputId": "7af7e8d5-fd8d-4663-ce28-27a860d700f6"
      },
      "execution_count": null,
      "outputs": [
        {
          "output_type": "stream",
          "name": "stdout",
          "text": [
            "Crawl \t رینگنا\n",
            "Abuse \t گا لی دینا\n",
            "Devilish \t شیطانی\n",
            "Curiosity \t تجسس\n",
            "Irfan \t  کسی کا نام\n",
            "Flecks \t دھبے\n",
            "Maize \t مکئ\n",
            "Crushing \t کچلنے والا\n",
            "Mistrust \t بد اعتمادی\n",
            "Peasant \t کسان\n",
            "Delicate \t کسان\n",
            "Barren \t ویران\n",
            "Dash \t داخل ہو نا\n",
            "Mule \t خچر\n",
            "Beans \t لوبیا\n",
            "Flute \t بانسری\n",
            "Meadow \t سبزہ زار\n",
            "Prowl \t \tآوارہ گردی کرنا\n",
            "Astounded \t ہکا بکا\n",
            "Flimsy \t نازک\n",
            "Quietly \t خاموشی سے\n",
            "Bend \t جھکنا\n",
            "Dismay \t افسردگی\n",
            "Indignation \t غصہ\n",
            "Bet \t شرط لگانا\n",
            "Hammer \t ہتھوڑا\n",
            "Bluff \t کھڑی چٹان\n",
            "Hay \t \tگھاس\n",
            "irfan \t کسی کا نام\n"
          ]
        }
      ]
    }
  ]
}